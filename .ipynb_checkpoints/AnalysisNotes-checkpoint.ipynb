{
 "cells": [
  {
   "cell_type": "markdown",
   "metadata": {},
   "source": [
    "# GrupoBimbo Kaggle comp\n",
    "\n",
    "## Initial thoughts:\n",
    "\n",
    "This is my first shot at doing a Kaggle comp, so I'm not expecting much.\n",
    "\n",
    "The problem can be summarised as follows:\n",
    "\n",
    "- Various input data are given about a given product, where it goes, how much it costs, how many ordered, etc.\n",
    "- Predict the amount of product that will be returned.\n",
    "\n",
    "This is a regression type problem, so I'll work my way through the various machine learning algorithms that solve regression type problems. I will stick with what I'm comfortable with: Python and Numpy/Scipy/Pandas and Scikit Learn.\n",
    "\n",
    "The first thing is to import the data and join them into a single table.\n",
    "Note that the test data are ~3 GB so may need to be chunked to save memory.\n",
    "While I'm playing with models I can just take a subset.\n",
    "\n"
   ]
  },
  {
   "cell_type": "code",
   "execution_count": 1,
   "metadata": {
    "collapsed": false
   },
   "outputs": [],
   "source": [
    "import pandas\n",
    "client_table = pandas.read_csv('cliente_tabla.csv')\n",
    "test = pandas.read_csv('test.csv', nrows=10000)\n",
    "train = pandas.read_csv('train.csv', nrows=10000)\n",
    "product_table = pandas.read_csv('producto_tabla.csv')\n",
    "town_state = pandas.read_csv('town_state.csv')"
   ]
  },
  {
   "cell_type": "markdown",
   "metadata": {},
   "source": [
    "Let's look at the data:"
   ]
  },
  {
   "cell_type": "code",
   "execution_count": 2,
   "metadata": {
    "collapsed": false
   },
   "outputs": [
    {
     "name": "stdout",
     "output_type": "stream",
     "text": [
      "Client table: \n",
      "\n",
      "   Cliente_ID                            NombreCliente\n",
      "0           0                               SIN NOMBRE\n",
      "1           1                         OXXO XINANTECATL\n",
      "2           2                               SIN NOMBRE\n",
      "3           3                                EL MORENO\n",
      "4           4  SDN SER  DE ALIM  CUERPO SA CIA  DE INT\n",
      "\n",
      "\n",
      "Product table: \n",
      "\n",
      "   Producto_ID                          NombreProducto\n",
      "0            0                       NO IDENTIFICADO 0\n",
      "1            9               Capuccino Moka 750g NES 9\n",
      "2           41  Bimbollos Ext sAjonjoli 6p 480g BIM 41\n",
      "3           53          Burritos Sincro 170g CU LON 53\n",
      "4           72     Div Tira Mini Doradita 4p 45g TR 72\n",
      "\n",
      "\n",
      "Town and state: \n",
      "\n",
      "   Agencia_ID                   Town             State\n",
      "0        1110     2008 AG. LAGO FILT      MÉXICO, D.F.\n",
      "1        1111  2002 AG. AZCAPOTZALCO      MÉXICO, D.F.\n",
      "2        1112    2004 AG. CUAUTITLAN  ESTADO DE MÉXICO\n",
      "3        1113     2008 AG. LAGO FILT      MÉXICO, D.F.\n",
      "4        1114   2029 AG.IZTAPALAPA 2      MÉXICO, D.F.\n",
      "\n",
      "\n",
      "Training data: \n",
      "\n",
      "   Semana  Agencia_ID  Canal_ID  Ruta_SAK  Cliente_ID  Producto_ID  \\\n",
      "0       3        1110         7      3301       15766         1212   \n",
      "1       3        1110         7      3301       15766         1216   \n",
      "2       3        1110         7      3301       15766         1238   \n",
      "3       3        1110         7      3301       15766         1240   \n",
      "4       3        1110         7      3301       15766         1242   \n",
      "\n",
      "   Venta_uni_hoy  Venta_hoy  Dev_uni_proxima  Dev_proxima  Demanda_uni_equil  \n",
      "0              3      25.14                0            0                  3  \n",
      "1              4      33.52                0            0                  4  \n",
      "2              4      39.32                0            0                  4  \n",
      "3              4      33.52                0            0                  4  \n",
      "4              3      22.92                0            0                  3  \n",
      "\n",
      "\n",
      "Testing data: \n",
      "\n",
      "   id  Semana  Agencia_ID  Canal_ID  Ruta_SAK  Cliente_ID  Producto_ID\n",
      "0   0      11        4037         1      2209     4639078        35305\n",
      "1   1      11        2237         1      1226     4705135         1238\n",
      "2   2      10        2045         1      2831     4549769        32940\n",
      "3   3      11        1227         1      4448     4717855        43066\n",
      "4   4      11        1219         1      1130      966351         1277\n"
     ]
    }
   ],
   "source": [
    "print(\"Client table: \\n\")\n",
    "print(client_table.head())\n",
    "print(\"\\n\\nProduct table: \\n\")\n",
    "print(product_table.head())\n",
    "print(\"\\n\\nTown and state: \\n\")\n",
    "print(town_state.head())\n",
    "print(\"\\n\\nTraining data: \\n\")\n",
    "print(train.head())\n",
    "print(\"\\n\\nTesting data: \\n\")\n",
    "print(test.head())"
   ]
  },
  {
   "cell_type": "markdown",
   "metadata": {},
   "source": [
    "## Kaggle guidance:\n",
    "\n",
    "### Files:\n",
    "\n",
    "train.csv — the training set\n",
    "\n",
    "test.csv — the test set\n",
    "\n",
    "sample_submission.csv — a sample submission file in the correct format\n",
    "\n",
    "cliente_tabla.csv — client names (can be joined with train/test on Cliente_ID)\n",
    "\n",
    "producto_tabla.csv — product names (can be joined with train/test on Producto_ID)\n",
    "\n",
    "town_state.csv — town and state (can be joined with train/test on Agencia_ID)\n",
    "\n",
    "### Data fields:\n",
    "\n",
    "Semana — Week number (From Thursday to Wednesday)\n",
    "\n",
    "Agencia_ID — Sales Depot ID\n",
    "\n",
    "Canal_ID — Sales Channel ID\n",
    "\n",
    "Ruta_SAK — Route ID (Several routes = Sales Depot)\n",
    "\n",
    "Cliente_ID — Client ID\n",
    "\n",
    "NombreCliente — Client name\n",
    "\n",
    "Producto_ID — Product ID\n",
    "\n",
    "NombreProducto — Product Name\n",
    "\n",
    "Venta_uni_hoy — Sales unit this week (integer)\n",
    "\n",
    "Venta_hoy — Sales this week (unit: pesos)\n",
    "\n",
    "Dev_uni_proxima — Returns unit next week (integer)\n",
    "\n",
    "Dev_proxima — Returns next week (unit: pesos)\n",
    "\n",
    "Demanda_uni_equil — Adjusted Demand (integer) (This is the target you will predict)\n",
    "\n",
    "\n",
    "## My initial thoughts:\n",
    "\n",
    "- The client names could be useful, as some stores must over-order more regularly. 'SIN NOMBRE' means nameless, so it would be interesting to see if there are any clients that have repeated names, other than nameless..."
   ]
  },
  {
   "cell_type": "code",
   "execution_count": null,
   "metadata": {
    "collapsed": false
   },
   "outputs": [],
   "source": [
    "repeatedclients = client_table.duplicated(subset='NombreCliente')\n",
    "duplicates = []\n",
    "for i in range(len(client_table)):\n",
    "    clientname = client_table.loc[i][1]\n",
    "    if \"SIN NOMBRE\" not in clientname and \"NO IDENTIFICADO\" not in clientname and repeatedclients.loc[i]:\n",
    "        duplicates += [clientname]\n",
    "print(\"{0} duplicates found.\".format(len(duplicates)))"
   ]
  },
  {
   "cell_type": "code",
   "execution_count": 7,
   "metadata": {
    "collapsed": false
   },
   "outputs": [
    {
     "data": {
      "text/plain": [
       "0.3658177261851561"
      ]
     },
     "execution_count": 7,
     "metadata": {},
     "output_type": "execute_result"
    }
   ],
   "source": [
    "342172./len(client_table)"
   ]
  },
  {
   "cell_type": "markdown",
   "metadata": {},
   "source": [
    "- And it turns out that quite a few are repeats, about 36%! I'll need to do some checking that the repeated names have the same client ID (If they do, merge them, and if they don't, associate them).\n",
    "\n",
    "- The product ID field gives some more info as well; though in an unstructured format. The relevant field is NombreProducto (product name). It looks like there is a weight field, a price field, and one or more other string identifiers. At the end the product number is repeated. I should be able to extract the weight and price easily. Looking though the data manually, it appears that at least some of the identifiers should be useful, particularly 'Prom', which keeps popping up and presumably means promotion or sale. The rest of the identifiers seem to be capitalised letters, which may help. There are also some nuisance ones as well, such as \"50pc\" and \"5in\", that need to be ignored. The name of the product seems to always be the first thing in the NombreProducto field.\n",
    "\n",
    "- Town and state contain the depot location. These data are presumably also useful, as similar locations will probably tend to eat similarly. It may be possible to use some other public data about incomes in these locations to give more info, though that will require some work!\n",
    "\n",
    "- The 'semana' number is interesting. There's likely to be some seasonal variation, but how can you account for this in a model? I guess if it is week number in the year then it's most likely that the next year at that week number you'll get similar demand..."
   ]
  },
  {
   "cell_type": "code",
   "execution_count": 8,
   "metadata": {
    "collapsed": true
   },
   "outputs": [],
   "source": [
    "#Code to remove duplicate client IDs.\n",
    "rptClientID = client_table.duplicated(subset=\"Cliente_ID\")\n",
    "client_table_cleaned = client_table[rptClientID!=True]\n",
    "client_table_cleaned.to_csv(\"client_table_cleaned.csv\")"
   ]
  },
  {
   "cell_type": "code",
   "execution_count": 9,
   "metadata": {
    "collapsed": false
   },
   "outputs": [
    {
     "data": {
      "text/plain": [
       "0.9948020124828676"
      ]
     },
     "execution_count": 9,
     "metadata": {},
     "output_type": "execute_result"
    }
   ],
   "source": [
    "len(client_table_cleaned)/float(len(client_table))"
   ]
  },
  {
   "cell_type": "code",
   "execution_count": 10,
   "metadata": {
    "collapsed": false
   },
   "outputs": [],
   "source": [
    "TrainWithNames = pandas.merge(client_table_cleaned, train, on=\"Cliente_ID\")"
   ]
  },
  {
   "cell_type": "code",
   "execution_count": 3,
   "metadata": {
    "collapsed": false
   },
   "outputs": [
    {
     "name": "stdout",
     "output_type": "stream",
     "text": [
      "   Producto_ID                          NombreProducto IsProm  Mass  Price\n",
      "0            0                       NO IDENTIFICADO 0  False    -1     -1\n",
      "1            9               Capuccino Moka 750g NES 9  False   750     -1\n",
      "2           41  Bimbollos Ext sAjonjoli 6p 480g BIM 41  False   480      6\n",
      "3           53          Burritos Sincro 170g CU LON 53  False   170     -1\n",
      "4           72     Div Tira Mini Doradita 4p 45g TR 72  False    45      4\n"
     ]
    }
   ],
   "source": [
    "import re\n",
    "import numpy as np\n",
    "#Ignore the 0th entry for the capitalised words search; it is 'NO IDENTIFICADO'\n",
    "product_table.loc[:, 'IsProm'] = pandas.Series([len(re.findall(' Prom ', prodname))!=0 \n",
    "                                                for prodname in product_table.NombreProducto],\n",
    "                                               index=product_table.index)\n",
    "def getmass(product):\n",
    "    ret = re.findall(' [0123456789]*g ', product)\n",
    "    if len(ret)==0:\n",
    "        return -1\n",
    "    else:\n",
    "        return int(ret[0].strip(' g'))\n",
    "\n",
    "def getprice(product):\n",
    "    ret = re.findall(' [0123456789]*p ', product)\n",
    "    if len(ret)==0:\n",
    "        return -1\n",
    "    else:\n",
    "        return int(ret[0].strip(' p'))\n",
    "    \n",
    "product_table.loc[:, 'Mass'] = pandas.Series([getmass(prodname) for prodname in product_table.NombreProducto],\n",
    "                                             index=product_table.index)\n",
    "product_table.loc[:, 'Price'] = pandas.Series([getprice(prodname) for prodname in product_table.NombreProducto],\n",
    "                                             index=product_table.index)\n",
    "print(product_table.head())\n",
    "product_table.to_csv(\"product_table_extractPromMassPrice.csv\")"
   ]
  },
  {
   "cell_type": "code",
   "execution_count": 4,
   "metadata": {
    "collapsed": false
   },
   "outputs": [
    {
     "ename": "NameError",
     "evalue": "name 'client_table_cleaned' is not defined",
     "output_type": "error",
     "traceback": [
      "\u001b[1;31m---------------------------------------------------------------------------\u001b[0m",
      "\u001b[1;31mNameError\u001b[0m                                 Traceback (most recent call last)",
      "\u001b[1;32m<ipython-input-4-ff2426fe1b2c>\u001b[0m in \u001b[0;36m<module>\u001b[1;34m()\u001b[0m\n\u001b[0;32m      1\u001b[0m \u001b[0mTrainwithNamesAndProducts\u001b[0m \u001b[1;33m=\u001b[0m \u001b[0mpandas\u001b[0m\u001b[1;33m.\u001b[0m\u001b[0mmerge\u001b[0m\u001b[1;33m(\u001b[0m\u001b[0mproduct_table\u001b[0m\u001b[1;33m,\u001b[0m \u001b[0mtrain\u001b[0m\u001b[1;33m,\u001b[0m \u001b[0mon\u001b[0m\u001b[1;33m=\u001b[0m\u001b[1;34m\"Producto_ID\"\u001b[0m\u001b[1;33m)\u001b[0m\u001b[1;33m\u001b[0m\u001b[0m\n\u001b[1;32m----> 2\u001b[1;33m \u001b[0mTrainwithNamesAndProducts\u001b[0m \u001b[1;33m=\u001b[0m \u001b[0mpandas\u001b[0m\u001b[1;33m.\u001b[0m\u001b[0mmerge\u001b[0m\u001b[1;33m(\u001b[0m\u001b[0mclient_table_cleaned\u001b[0m\u001b[1;33m,\u001b[0m \u001b[0mTrainwithNamesAndProducts\u001b[0m\u001b[1;33m,\u001b[0m \u001b[0mon\u001b[0m\u001b[1;33m=\u001b[0m\u001b[1;34m\"Cliente_ID\"\u001b[0m\u001b[1;33m)\u001b[0m\u001b[1;33m\u001b[0m\u001b[0m\n\u001b[0m\u001b[0;32m      3\u001b[0m \u001b[0mTrainwithNamesAndProducts\u001b[0m\u001b[1;33m.\u001b[0m\u001b[0mhead\u001b[0m\u001b[1;33m(\u001b[0m\u001b[1;33m)\u001b[0m\u001b[1;33m\u001b[0m\u001b[0m\n",
      "\u001b[1;31mNameError\u001b[0m: name 'client_table_cleaned' is not defined"
     ]
    }
   ],
   "source": [
    "TrainwithNamesAndProducts = pandas.merge(product_table, train, on=\"Producto_ID\")\n",
    "TrainwithNamesAndProducts = pandas.merge(client_table_cleaned, TrainwithNamesAndProducts, on=\"Cliente_ID\")\n",
    "TrainwithNamesAndProducts.head()"
   ]
  },
  {
   "cell_type": "code",
   "execution_count": 15,
   "metadata": {
    "collapsed": false
   },
   "outputs": [
    {
     "data": {
      "text/html": [
       "<div>\n",
       "<table border=\"1\" class=\"dataframe\">\n",
       "  <thead>\n",
       "    <tr style=\"text-align: right;\">\n",
       "      <th></th>\n",
       "      <th>NombreCliente</th>\n",
       "      <th>Agencia_ID</th>\n",
       "      <th>Town</th>\n",
       "      <th>State</th>\n",
       "      <th>Producto_ID</th>\n",
       "      <th>IsProm</th>\n",
       "      <th>Mass</th>\n",
       "      <th>Price</th>\n",
       "      <th>Semana</th>\n",
       "      <th>Canal_ID</th>\n",
       "      <th>Ruta_SAK</th>\n",
       "      <th>Venta_uni_hoy</th>\n",
       "      <th>Venta_hoy</th>\n",
       "      <th>Dev_uni_proxima</th>\n",
       "      <th>Dev_proxima</th>\n",
       "      <th>Demanda_uni_equil</th>\n",
       "    </tr>\n",
       "  </thead>\n",
       "  <tbody>\n",
       "    <tr>\n",
       "      <th>0</th>\n",
       "      <td>PUESTO DE PERIODICOS LAZARO</td>\n",
       "      <td>1110</td>\n",
       "      <td>2008 AG. LAGO FILT</td>\n",
       "      <td>MÉXICO, D.F.</td>\n",
       "      <td>1212</td>\n",
       "      <td>False</td>\n",
       "      <td>120</td>\n",
       "      <td>2</td>\n",
       "      <td>3</td>\n",
       "      <td>7</td>\n",
       "      <td>3301</td>\n",
       "      <td>3</td>\n",
       "      <td>25.14</td>\n",
       "      <td>0</td>\n",
       "      <td>0</td>\n",
       "      <td>3</td>\n",
       "    </tr>\n",
       "    <tr>\n",
       "      <th>1</th>\n",
       "      <td>PUESTO DE PERIODICOS LAZARO</td>\n",
       "      <td>1110</td>\n",
       "      <td>2008 AG. LAGO FILT</td>\n",
       "      <td>MÉXICO, D.F.</td>\n",
       "      <td>1216</td>\n",
       "      <td>False</td>\n",
       "      <td>135</td>\n",
       "      <td>2</td>\n",
       "      <td>3</td>\n",
       "      <td>7</td>\n",
       "      <td>3301</td>\n",
       "      <td>4</td>\n",
       "      <td>33.52</td>\n",
       "      <td>0</td>\n",
       "      <td>0</td>\n",
       "      <td>4</td>\n",
       "    </tr>\n",
       "    <tr>\n",
       "      <th>2</th>\n",
       "      <td>PUESTO DE PERIODICOS LAZARO</td>\n",
       "      <td>1110</td>\n",
       "      <td>2008 AG. LAGO FILT</td>\n",
       "      <td>MÉXICO, D.F.</td>\n",
       "      <td>1238</td>\n",
       "      <td>False</td>\n",
       "      <td>140</td>\n",
       "      <td>2</td>\n",
       "      <td>3</td>\n",
       "      <td>7</td>\n",
       "      <td>3301</td>\n",
       "      <td>4</td>\n",
       "      <td>39.32</td>\n",
       "      <td>0</td>\n",
       "      <td>0</td>\n",
       "      <td>4</td>\n",
       "    </tr>\n",
       "    <tr>\n",
       "      <th>3</th>\n",
       "      <td>PUESTO DE PERIODICOS LAZARO</td>\n",
       "      <td>1110</td>\n",
       "      <td>2008 AG. LAGO FILT</td>\n",
       "      <td>MÉXICO, D.F.</td>\n",
       "      <td>1240</td>\n",
       "      <td>False</td>\n",
       "      <td>125</td>\n",
       "      <td>4</td>\n",
       "      <td>3</td>\n",
       "      <td>7</td>\n",
       "      <td>3301</td>\n",
       "      <td>4</td>\n",
       "      <td>33.52</td>\n",
       "      <td>0</td>\n",
       "      <td>0</td>\n",
       "      <td>4</td>\n",
       "    </tr>\n",
       "    <tr>\n",
       "      <th>4</th>\n",
       "      <td>PUESTO DE PERIODICOS LAZARO</td>\n",
       "      <td>1110</td>\n",
       "      <td>2008 AG. LAGO FILT</td>\n",
       "      <td>MÉXICO, D.F.</td>\n",
       "      <td>1242</td>\n",
       "      <td>False</td>\n",
       "      <td>105</td>\n",
       "      <td>6</td>\n",
       "      <td>3</td>\n",
       "      <td>7</td>\n",
       "      <td>3301</td>\n",
       "      <td>3</td>\n",
       "      <td>22.92</td>\n",
       "      <td>0</td>\n",
       "      <td>0</td>\n",
       "      <td>3</td>\n",
       "    </tr>\n",
       "  </tbody>\n",
       "</table>\n",
       "</div>"
      ],
      "text/plain": [
       "                 NombreCliente  Agencia_ID                Town         State  \\\n",
       "0  PUESTO DE PERIODICOS LAZARO        1110  2008 AG. LAGO FILT  MÉXICO, D.F.   \n",
       "1  PUESTO DE PERIODICOS LAZARO        1110  2008 AG. LAGO FILT  MÉXICO, D.F.   \n",
       "2  PUESTO DE PERIODICOS LAZARO        1110  2008 AG. LAGO FILT  MÉXICO, D.F.   \n",
       "3  PUESTO DE PERIODICOS LAZARO        1110  2008 AG. LAGO FILT  MÉXICO, D.F.   \n",
       "4  PUESTO DE PERIODICOS LAZARO        1110  2008 AG. LAGO FILT  MÉXICO, D.F.   \n",
       "\n",
       "   Producto_ID IsProm  Mass  Price  Semana  Canal_ID  Ruta_SAK  Venta_uni_hoy  \\\n",
       "0         1212  False   120      2       3         7      3301              3   \n",
       "1         1216  False   135      2       3         7      3301              4   \n",
       "2         1238  False   140      2       3         7      3301              4   \n",
       "3         1240  False   125      4       3         7      3301              4   \n",
       "4         1242  False   105      6       3         7      3301              3   \n",
       "\n",
       "   Venta_hoy  Dev_uni_proxima  Dev_proxima  Demanda_uni_equil  \n",
       "0      25.14                0            0                  3  \n",
       "1      33.52                0            0                  4  \n",
       "2      39.32                0            0                  4  \n",
       "3      33.52                0            0                  4  \n",
       "4      22.92                0            0                  3  "
      ]
     },
     "execution_count": 15,
     "metadata": {},
     "output_type": "execute_result"
    }
   ],
   "source": [
    "Train_joined = pandas.merge(product_table, train, on=\"Producto_ID\")\n",
    "Train_joined = pandas.merge(town_state, Train_joined, on=\"Agencia_ID\")\n",
    "Train_joined = pandas.merge(client_table_cleaned, Train_joined, on=\"Cliente_ID\")\n",
    "Train_joined.drop([\"Cliente_ID\", \"NombreProducto\"], inplace=True, axis=1)\n",
    "Train_joined.head()"
   ]
  },
  {
   "cell_type": "code",
   "execution_count": 13,
   "metadata": {
    "collapsed": true
   },
   "outputs": [],
   "source": [
    "from sklearn import preprocessing"
   ]
  },
  {
   "cell_type": "code",
   "execution_count": 16,
   "metadata": {
    "collapsed": false
   },
   "outputs": [
    {
     "name": "stdout",
     "output_type": "stream",
     "text": [
      "1124\n",
      "['1002' '1007' '1021' '1037' '1096' '1099' '12863' '12919' '14727'\n",
      " '60 S BURGUER PABELLON POLANCO']\n",
      "[828 828 828 828 828 828 828 828 828 828]\n"
     ]
    },
    {
     "data": {
      "text/plain": [
       "array([828, 828, 828, ..., 853, 853, 853], dtype=int32)"
      ]
     },
     "execution_count": 16,
     "metadata": {},
     "output_type": "execute_result"
    }
   ],
   "source": [
    "le = preprocessing.LabelEncoder()\n",
    "le.fit(Train_joined.NombreCliente)\n",
    "print(len(le.classes_))\n",
    "print(le.classes_[0:10])\n",
    "print(le.transform(Train_joined.NombreCliente)[0:10])\n",
    "le.fit_transform(Train_joined.NombreCliente)\n",
    "#le.fit(Train_joined.Town)\n",
    "#le.fit_transform(Train_joined.Town)\n",
    "#print(len(le.classes_))\n",
    "#print(le.classes_)\n",
    "#train_final = Train_joined\n"
   ]
  },
  {
   "cell_type": "markdown",
   "metadata": {},
   "source": [
    "### Note:\n",
    "\n",
    "I'm not sure why this code above isn't working for the 'Town' or 'State' field. For now, I'll just go with the info I've extracted from the product name and ignore town/state info."
   ]
  },
  {
   "cell_type": "markdown",
   "metadata": {},
   "source": [
    "# First Attempt\n",
    "\n",
    "I'll ignore the town/state info (but keep the Agencia_ID field)."
   ]
  },
  {
   "cell_type": "code",
   "execution_count": 13,
   "metadata": {
    "collapsed": false
   },
   "outputs": [],
   "source": [
    "train_first = pandas.merge(product_table, train, on=\"Producto_ID\")\n",
    "train_first = pandas.merge(client_table_cleaned, train_first, on=\"Cliente_ID\")\n",
    "le = preprocessing.LabelEncoder()\n",
    "train_first.loc[:, \"ClientNumber\"] = pandas.Series(le.fit_transform(train_first.NombreCliente), index=train_first.index)\n",
    "train_first.loc[:, \"IsProm\"] = pandas.Series(le.fit_transform(train_first.IsProm), index=train_first.index)\n",
    "train_first.loc[:, \"BulkPrice\"] = train_first.Venta_hoy/train_first.Venta_uni_hoy\n",
    "train_first.drop([\"Cliente_ID\", \"NombreProducto\", \"NombreCliente\", \"Venta_uni_hoy\", \"Venta_hoy\", \"Dev_uni_proxima\", \n",
    "                  \"Dev_proxima\"], inplace=True, axis=1)\n",
    "#Should I get rid of Dev_uni_proxima and similar? Aren't these cheating?\n",
    "X_train = train_first[[\"Producto_ID\", \"IsProm\", \"Mass\", \"Price\", \"Semana\", \"Agencia_ID\", \"Canal_ID\", \"Ruta_SAK\", \"ClientNumber\",\n",
    "                         \"BulkPrice\"]]\n",
    "y_train = train_first[\"Demanda_uni_equil\"]"
   ]
  },
  {
   "cell_type": "markdown",
   "metadata": {},
   "source": [
    "There are some NaNs that mess with the modeling; replace these with -1."
   ]
  },
  {
   "cell_type": "code",
   "execution_count": 14,
   "metadata": {
    "collapsed": false
   },
   "outputs": [
    {
     "name": "stdout",
     "output_type": "stream",
     "text": [
      "True\n",
      "False\n",
      "False\n",
      "True\n"
     ]
    },
    {
     "name": "stderr",
     "output_type": "stream",
     "text": [
      "C:\\Users\\lbignell\\AppData\\Local\\Continuum\\Anaconda3\\lib\\site-packages\\pandas\\core\\frame.py:2532: SettingWithCopyWarning: \n",
      "A value is trying to be set on a copy of a slice from a DataFrame\n",
      "\n",
      "See the the caveats in the documentation: http://pandas.pydata.org/pandas-docs/stable/indexing.html#indexing-view-versus-copy\n",
      "  **kwargs)\n"
     ]
    }
   ],
   "source": [
    "print(np.any(np.isnan(X_train)))\n",
    "print(np.all(np.isfinite(X_train)))\n",
    "X_train.fillna(value=-1, inplace=True)\n",
    "print(np.any(np.isnan(X_train)))\n",
    "print(np.all(np.isfinite(X_train)))"
   ]
  },
  {
   "cell_type": "markdown",
   "metadata": {},
   "source": [
    "### Now to run with a random forest regressor...\n",
    "This is inspired by the NY SAT score predictor tutorial's approach."
   ]
  },
  {
   "cell_type": "code",
   "execution_count": 15,
   "metadata": {
    "collapsed": false
   },
   "outputs": [
    {
     "name": "stdout",
     "output_type": "stream",
     "text": [
      "RMSE: 23.8659850297\n",
      "10 Most Important Variables:[('BulkPrice', 0.45328105341429681), ('ClientNumber', 0.31687055226669475), ('Ruta_SAK', 0.11078094636821464), ('Producto_ID', 0.056799627839765054), ('Mass', 0.03510996578702627), ('Price', 0.01347932837930709), ('Canal_ID', 0.011867888594252243), ('IsProm', 0.001293823259388663), ('Agencia_ID', 0.00051681409105438993), ('Semana', 0.0)]\n",
      "Scores:[ 36.70385478  17.95146918  29.81899875  30.76986814  68.96114217\n",
      "  13.93640508  19.59622026  16.82508264  71.87268642  75.46570521]\n",
      "\n"
     ]
    }
   ],
   "source": [
    "from sklearn.ensemble import RandomForestRegressor\n",
    "from sklearn.cross_validation import cross_val_score\n",
    "\n",
    "model = RandomForestRegressor(n_estimators=100, n_jobs=1)\n",
    "model.fit(X_train, y_train)\n",
    "\n",
    "scores = cross_val_score(model, X_train, y_train, cv=10, scoring=\"mean_squared_error\")\n",
    "\n",
    "#Initial test with training data...\n",
    "predictions = np.array(model.predict(X_train))\n",
    "rmse = np.sqrt(np.mean((np.array(y_train.values) - predictions)**2))\n",
    "imp = sorted(zip(X_train.columns, model.feature_importances_), key=lambda tup: tup[1], reverse=True)\n",
    "\n",
    "print(\"RMSE: \" + str(rmse))\n",
    "print(\"10 Most Important Variables:\" + str(imp[:10]))\n",
    "\n",
    "print(\"Scores:\" + str((-1*scores)**0.5))\n",
    "print(\"\")"
   ]
  },
  {
   "cell_type": "code",
   "execution_count": 58,
   "metadata": {
    "collapsed": false
   },
   "outputs": [
    {
     "name": "stdout",
     "output_type": "stream",
     "text": [
      "Wall time: 7 s\n",
      "Wall time: 1min 5s\n",
      "RMSE: 23.8676101417\n",
      "10 Most Important Variables:[('BulkPrice', 0.44594157222059422), ('ClientNumber', 0.33006100831963897), ('Ruta_SAK', 0.10794711986842705), ('Producto_ID', 0.055173765134986778), ('Mass', 0.034610996138807963), ('Price', 0.013770130237999162), ('Canal_ID', 0.010790258296051269), ('IsProm', 0.0013401626912547023), ('Agencia_ID', 0.00036498709223979782), ('Semana', 0.0)]\n",
      "Scores:[ 35.9692458   18.03797427  29.83772909  31.00572924  69.23941416\n",
      "  14.46351645  19.28784632  16.87692719  72.96582314  71.44208926]\n",
      "\n"
     ]
    }
   ],
   "source": [
    "from sklearn.ensemble import RandomForestRegressor\n",
    "from sklearn.cross_validation import cross_val_score\n",
    "\n",
    "model = RandomForestRegressor(n_estimators=200, n_jobs=1, max_features=\"auto\", max_depth=None, min_samples_split=2,\n",
    "                              min_samples_leaf=1)\n",
    "%time model.fit(X_train, y_train)\n",
    "\n",
    "%time scores = cross_val_score(model, X_train, y_train, cv=10, scoring=\"mean_squared_error\")\n",
    "\n",
    "#Initial test with training data...\n",
    "predictions = np.array(model.predict(X_train))\n",
    "rmse = np.sqrt(np.mean((np.array(y_train.values) - predictions)**2))\n",
    "imp = sorted(zip(X_train.columns, model.feature_importances_), key=lambda tup: tup[1], reverse=True)\n",
    "\n",
    "print(\"RMSE: \" + str(rmse))\n",
    "print(\"10 Most Important Variables:\" + str(imp[:10]))\n",
    "\n",
    "print(\"Scores:\" + str((-1*scores)**0.5))\n",
    "print(\"\")"
   ]
  },
  {
   "cell_type": "code",
   "execution_count": 20,
   "metadata": {
    "collapsed": false
   },
   "outputs": [
    {
     "data": {
      "text/plain": [
       "<bound method RandomForestRegressor.get_params of RandomForestRegressor(bootstrap=True, criterion='mse', max_depth=None,\n",
       "           max_features='auto', max_leaf_nodes=None, min_samples_leaf=1,\n",
       "           min_samples_split=2, min_weight_fraction_leaf=0.0,\n",
       "           n_estimators=100, n_jobs=-1, oob_score=False, random_state=None,\n",
       "           verbose=0, warm_start=False)>"
      ]
     },
     "execution_count": 20,
     "metadata": {},
     "output_type": "execute_result"
    }
   ],
   "source": [
    "model.get_params"
   ]
  },
  {
   "cell_type": "code",
   "execution_count": 40,
   "metadata": {
    "collapsed": false
   },
   "outputs": [
    {
     "name": "stdout",
     "output_type": "stream",
     "text": [
      "Running search...\n",
      "Wall time: 5 ms\n",
      "Done!\n",
      "GridScores: [mean: -1951.82805, std: 1804.91278, params: {'n_jobs': 1, 'min_samples_leaf': 4, 'n_estimators': 103, 'min_samples_split': 3, 'max_features': 'auto', 'max_depth': None}, mean: -2293.47766, std: 2135.77747, params: {'n_jobs': 1, 'min_samples_leaf': 7, 'n_estimators': 105, 'min_samples_split': 19, 'max_features': 'auto', 'max_depth': 30}, mean: -1916.56238, std: 1738.52518, params: {'n_jobs': 1, 'min_samples_leaf': 2, 'n_estimators': 176, 'min_samples_split': 10, 'max_features': 'log2', 'max_depth': 30}, mean: -2246.22079, std: 2034.38805, params: {'n_jobs': 1, 'min_samples_leaf': 7, 'n_estimators': 50, 'min_samples_split': 17, 'max_features': 'log2', 'max_depth': 30}, mean: -1870.35604, std: 1721.08844, params: {'n_jobs': 1, 'min_samples_leaf': 3, 'n_estimators': 80, 'min_samples_split': 19, 'max_features': 'auto', 'max_depth': 30}, mean: -1924.50109, std: 1738.57468, params: {'n_jobs': 1, 'min_samples_leaf': 1, 'n_estimators': 165, 'min_samples_split': 18, 'max_features': 'sqrt', 'max_depth': None}, mean: -1846.90413, std: 1697.80627, params: {'n_jobs': 1, 'min_samples_leaf': 1, 'n_estimators': 104, 'min_samples_split': 12, 'max_features': 'log2', 'max_depth': None}, mean: -2154.21308, std: 1990.54510, params: {'n_jobs': 1, 'min_samples_leaf': 6, 'n_estimators': 193, 'min_samples_split': 18, 'max_features': 'auto', 'max_depth': 30}, mean: -1814.35028, std: 1729.74513, params: {'n_jobs': 1, 'min_samples_leaf': 1, 'n_estimators': 195, 'min_samples_split': 5, 'max_features': 'log2', 'max_depth': 30}, mean: -2298.45369, std: 2072.63142, params: {'n_jobs': 1, 'min_samples_leaf': 8, 'n_estimators': 91, 'min_samples_split': 14, 'max_features': 'sqrt', 'max_depth': 30}, mean: -1962.96329, std: 1781.94912, params: {'n_jobs': 1, 'min_samples_leaf': 2, 'n_estimators': 77, 'min_samples_split': 19, 'max_features': 'sqrt', 'max_depth': None}, mean: -1938.84393, std: 1770.15251, params: {'n_jobs': 1, 'min_samples_leaf': 2, 'n_estimators': 66, 'min_samples_split': 2, 'max_features': 'log2', 'max_depth': None}, mean: -2327.77895, std: 2116.07105, params: {'n_jobs': 1, 'min_samples_leaf': 8, 'n_estimators': 61, 'min_samples_split': 7, 'max_features': 'sqrt', 'max_depth': None}, mean: -2256.44619, std: 2036.12251, params: {'n_jobs': 1, 'min_samples_leaf': 7, 'n_estimators': 143, 'min_samples_split': 5, 'max_features': 'log2', 'max_depth': 30}, mean: -1848.98296, std: 1745.84877, params: {'n_jobs': 1, 'min_samples_leaf': 3, 'n_estimators': 67, 'min_samples_split': 2, 'max_features': 'auto', 'max_depth': None}, mean: -2253.18298, std: 2075.30107, params: {'n_jobs': 1, 'min_samples_leaf': 7, 'n_estimators': 150, 'min_samples_split': 5, 'max_features': 'auto', 'max_depth': 30}, mean: -2298.57273, std: 2113.36590, params: {'n_jobs': 1, 'min_samples_leaf': 8, 'n_estimators': 163, 'min_samples_split': 19, 'max_features': None, 'max_depth': 30}, mean: -1850.06056, std: 1758.06813, params: {'n_jobs': 1, 'min_samples_leaf': 1, 'n_estimators': 186, 'min_samples_split': 5, 'max_features': 'sqrt', 'max_depth': 30}, mean: -2252.12862, std: 2040.33992, params: {'n_jobs': 1, 'min_samples_leaf': 7, 'n_estimators': 95, 'min_samples_split': 19, 'max_features': 'sqrt', 'max_depth': 30}, mean: -1811.21413, std: 1672.14994, params: {'n_jobs': 1, 'min_samples_leaf': 1, 'n_estimators': 57, 'min_samples_split': 19, 'max_features': 'sqrt', 'max_depth': 30}, mean: -1849.83321, std: 1765.10364, params: {'n_jobs': 1, 'min_samples_leaf': 2, 'n_estimators': 103, 'min_samples_split': 9, 'max_features': None, 'max_depth': 30}, mean: -2209.75002, std: 2013.35109, params: {'n_jobs': 1, 'min_samples_leaf': 6, 'n_estimators': 178, 'min_samples_split': 5, 'max_features': 'log2', 'max_depth': 30}, mean: -1809.88551, std: 1777.08852, params: {'n_jobs': 1, 'min_samples_leaf': 2, 'n_estimators': 85, 'min_samples_split': 5, 'max_features': 'auto', 'max_depth': None}, mean: -1996.74592, std: 1790.48469, params: {'n_jobs': 1, 'min_samples_leaf': 3, 'n_estimators': 188, 'min_samples_split': 14, 'max_features': 'log2', 'max_depth': None}, mean: -1860.80741, std: 1749.75066, params: {'n_jobs': 1, 'min_samples_leaf': 2, 'n_estimators': 168, 'min_samples_split': 4, 'max_features': 'log2', 'max_depth': 30}, mean: -2014.03100, std: 1821.47333, params: {'n_jobs': 1, 'min_samples_leaf': 3, 'n_estimators': 94, 'min_samples_split': 13, 'max_features': 'log2', 'max_depth': 30}, mean: -2297.19329, std: 2052.48136, params: {'n_jobs': 1, 'min_samples_leaf': 8, 'n_estimators': 69, 'min_samples_split': 16, 'max_features': 'sqrt', 'max_depth': 30}, mean: -1781.31767, std: 1762.10112, params: {'n_jobs': 1, 'min_samples_leaf': 1, 'n_estimators': 89, 'min_samples_split': 9, 'max_features': 'auto', 'max_depth': None}, mean: -1998.08666, std: 1804.00541, params: {'n_jobs': 1, 'min_samples_leaf': 3, 'n_estimators': 57, 'min_samples_split': 19, 'max_features': 'sqrt', 'max_depth': None}, mean: -2211.21052, std: 2056.52335, params: {'n_jobs': 1, 'min_samples_leaf': 7, 'n_estimators': 112, 'min_samples_split': 17, 'max_features': 'auto', 'max_depth': 30}, mean: -1893.33713, std: 1931.88872, params: {'n_jobs': 1, 'min_samples_leaf': 1, 'n_estimators': 126, 'min_samples_split': 3, 'max_features': 'auto', 'max_depth': None}, mean: -1994.04381, std: 1829.87667, params: {'n_jobs': 1, 'min_samples_leaf': 3, 'n_estimators': 115, 'min_samples_split': 5, 'max_features': 'log2', 'max_depth': 30}, mean: -2110.14239, std: 1904.08945, params: {'n_jobs': 1, 'min_samples_leaf': 4, 'n_estimators': 66, 'min_samples_split': 19, 'max_features': 'log2', 'max_depth': None}, mean: -2105.06040, std: 1926.57160, params: {'n_jobs': 1, 'min_samples_leaf': 4, 'n_estimators': 105, 'min_samples_split': 2, 'max_features': 'log2', 'max_depth': 30}, mean: -1783.15610, std: 1698.46364, params: {'n_jobs': 1, 'min_samples_leaf': 2, 'n_estimators': 133, 'min_samples_split': 14, 'max_features': None, 'max_depth': None}, mean: -2044.55810, std: 1859.24673, params: {'n_jobs': 1, 'min_samples_leaf': 4, 'n_estimators': 74, 'min_samples_split': 5, 'max_features': 'log2', 'max_depth': None}, mean: -2300.61856, std: 2068.97814, params: {'n_jobs': 1, 'min_samples_leaf': 8, 'n_estimators': 196, 'min_samples_split': 6, 'max_features': 'log2', 'max_depth': None}, mean: -2266.07156, std: 2065.79551, params: {'n_jobs': 1, 'min_samples_leaf': 7, 'n_estimators': 179, 'min_samples_split': 18, 'max_features': 'sqrt', 'max_depth': None}, mean: -1965.66863, std: 1814.31472, params: {'n_jobs': 1, 'min_samples_leaf': 4, 'n_estimators': 96, 'min_samples_split': 11, 'max_features': 'auto', 'max_depth': None}, mean: -2265.33163, std: 2044.66525, params: {'n_jobs': 1, 'min_samples_leaf': 7, 'n_estimators': 166, 'min_samples_split': 11, 'max_features': 'log2', 'max_depth': 30}, mean: -2000.70668, std: 1791.62234, params: {'n_jobs': 1, 'min_samples_leaf': 3, 'n_estimators': 98, 'min_samples_split': 18, 'max_features': 'sqrt', 'max_depth': 30}, mean: -2080.82455, std: 1937.73197, params: {'n_jobs': 1, 'min_samples_leaf': 4, 'n_estimators': 191, 'min_samples_split': 10, 'max_features': 'sqrt', 'max_depth': 30}, mean: -2209.97759, std: 2052.79861, params: {'n_jobs': 1, 'min_samples_leaf': 7, 'n_estimators': 178, 'min_samples_split': 15, 'max_features': 'auto', 'max_depth': 30}, mean: -2266.21641, std: 2025.15118, params: {'n_jobs': 1, 'min_samples_leaf': 9, 'n_estimators': 67, 'min_samples_split': 2, 'max_features': 'auto', 'max_depth': None}, mean: -1811.20754, std: 1756.77164, params: {'n_jobs': 1, 'min_samples_leaf': 1, 'n_estimators': 158, 'min_samples_split': 5, 'max_features': 'sqrt', 'max_depth': 30}, mean: -1844.49746, std: 1713.56075, params: {'n_jobs': 1, 'min_samples_leaf': 2, 'n_estimators': 101, 'min_samples_split': 5, 'max_features': 'log2', 'max_depth': None}, mean: -2132.79345, std: 1946.73653, params: {'n_jobs': 1, 'min_samples_leaf': 5, 'n_estimators': 162, 'min_samples_split': 19, 'max_features': 'sqrt', 'max_depth': None}, mean: -2281.71688, std: 2096.83564, params: {'n_jobs': 1, 'min_samples_leaf': 9, 'n_estimators': 55, 'min_samples_split': 9, 'max_features': 'sqrt', 'max_depth': None}, mean: -1912.94408, std: 1696.84708, params: {'n_jobs': 1, 'min_samples_leaf': 2, 'n_estimators': 185, 'min_samples_split': 17, 'max_features': 'sqrt', 'max_depth': 30}, mean: -1989.24187, std: 1871.56144, params: {'n_jobs': 1, 'min_samples_leaf': 4, 'n_estimators': 92, 'min_samples_split': 9, 'max_features': 'auto', 'max_depth': 30}, mean: -1873.89479, std: 1749.09010, params: {'n_jobs': 1, 'min_samples_leaf': 3, 'n_estimators': 182, 'min_samples_split': 17, 'max_features': 'auto', 'max_depth': 30}, mean: -2287.52767, std: 2081.62045, params: {'n_jobs': 1, 'min_samples_leaf': 9, 'n_estimators': 190, 'min_samples_split': 18, 'max_features': 'sqrt', 'max_depth': 30}, mean: -2262.05681, std: 2037.85811, params: {'n_jobs': 1, 'min_samples_leaf': 8, 'n_estimators': 60, 'min_samples_split': 17, 'max_features': 'log2', 'max_depth': 30}, mean: -2254.02198, std: 2091.94154, params: {'n_jobs': 1, 'min_samples_leaf': 7, 'n_estimators': 154, 'min_samples_split': 10, 'max_features': 'auto', 'max_depth': None}, mean: -1889.28209, std: 1833.06802, params: {'n_jobs': 1, 'min_samples_leaf': 1, 'n_estimators': 159, 'min_samples_split': 4, 'max_features': 'log2', 'max_depth': None}, mean: -1932.51083, std: 1765.66249, params: {'n_jobs': 1, 'min_samples_leaf': 2, 'n_estimators': 184, 'min_samples_split': 17, 'max_features': 'sqrt', 'max_depth': None}, mean: -2312.92858, std: 2086.11369, params: {'n_jobs': 1, 'min_samples_leaf': 8, 'n_estimators': 91, 'min_samples_split': 8, 'max_features': 'sqrt', 'max_depth': 30}, mean: -2269.30293, std: 2054.10631, params: {'n_jobs': 1, 'min_samples_leaf': 8, 'n_estimators': 155, 'min_samples_split': 9, 'max_features': 'sqrt', 'max_depth': 30}, mean: -1876.35219, std: 1757.95136, params: {'n_jobs': 1, 'min_samples_leaf': 3, 'n_estimators': 146, 'min_samples_split': 2, 'max_features': None, 'max_depth': None}, mean: -1997.69120, std: 1805.54442, params: {'n_jobs': 1, 'min_samples_leaf': 4, 'n_estimators': 53, 'min_samples_split': 9, 'max_features': 'sqrt', 'max_depth': None}, mean: -2164.30703, std: 1976.26404, params: {'n_jobs': 1, 'min_samples_leaf': 5, 'n_estimators': 119, 'min_samples_split': 19, 'max_features': 'sqrt', 'max_depth': None}, mean: -2132.97543, std: 1955.17411, params: {'n_jobs': 1, 'min_samples_leaf': 5, 'n_estimators': 151, 'min_samples_split': 16, 'max_features': 'sqrt', 'max_depth': 30}, mean: -2265.48677, std: 2046.40733, params: {'n_jobs': 1, 'min_samples_leaf': 9, 'n_estimators': 106, 'min_samples_split': 10, 'max_features': None, 'max_depth': None}, mean: -1819.66012, std: 1772.46429, params: {'n_jobs': 1, 'min_samples_leaf': 1, 'n_estimators': 162, 'min_samples_split': 4, 'max_features': 'sqrt', 'max_depth': 30}, mean: -2299.14493, std: 2093.72089, params: {'n_jobs': 1, 'min_samples_leaf': 9, 'n_estimators': 171, 'min_samples_split': 2, 'max_features': 'auto', 'max_depth': None}, mean: -1891.81364, std: 1726.33684, params: {'n_jobs': 1, 'min_samples_leaf': 1, 'n_estimators': 139, 'min_samples_split': 17, 'max_features': 'sqrt', 'max_depth': None}, mean: -1857.45911, std: 1715.20679, params: {'n_jobs': 1, 'min_samples_leaf': 2, 'n_estimators': 110, 'min_samples_split': 3, 'max_features': 'sqrt', 'max_depth': 30}, mean: -2301.91170, std: 2138.49032, params: {'n_jobs': 1, 'min_samples_leaf': 8, 'n_estimators': 186, 'min_samples_split': 7, 'max_features': None, 'max_depth': 30}, mean: -2228.20384, std: 2014.20009, params: {'n_jobs': 1, 'min_samples_leaf': 7, 'n_estimators': 186, 'min_samples_split': 13, 'max_features': 'sqrt', 'max_depth': 30}, mean: -1851.29380, std: 1727.87044, params: {'n_jobs': 1, 'min_samples_leaf': 3, 'n_estimators': 114, 'min_samples_split': 12, 'max_features': None, 'max_depth': None}, mean: -2016.12399, std: 1829.47048, params: {'n_jobs': 1, 'min_samples_leaf': 3, 'n_estimators': 65, 'min_samples_split': 13, 'max_features': 'log2', 'max_depth': 30}, mean: -2159.70870, std: 1993.64224, params: {'n_jobs': 1, 'min_samples_leaf': 5, 'n_estimators': 99, 'min_samples_split': 11, 'max_features': 'log2', 'max_depth': 30}, mean: -2138.32345, std: 1958.02407, params: {'n_jobs': 1, 'min_samples_leaf': 4, 'n_estimators': 109, 'min_samples_split': 17, 'max_features': 'sqrt', 'max_depth': 30}, mean: -1951.16671, std: 1809.79467, params: {'n_jobs': 1, 'min_samples_leaf': 3, 'n_estimators': 100, 'min_samples_split': 2, 'max_features': 'sqrt', 'max_depth': None}, mean: -2189.01425, std: 2020.07408, params: {'n_jobs': 1, 'min_samples_leaf': 5, 'n_estimators': 102, 'min_samples_split': 16, 'max_features': 'log2', 'max_depth': None}, mean: -1759.40307, std: 1753.73993, params: {'n_jobs': 1, 'min_samples_leaf': 1, 'n_estimators': 120, 'min_samples_split': 17, 'max_features': 'auto', 'max_depth': 30}, mean: -2186.63150, std: 1980.52040, params: {'n_jobs': 1, 'min_samples_leaf': 6, 'n_estimators': 122, 'min_samples_split': 14, 'max_features': 'sqrt', 'max_depth': 30}, mean: -1872.55104, std: 1932.16961, params: {'n_jobs': 1, 'min_samples_leaf': 1, 'n_estimators': 97, 'min_samples_split': 2, 'max_features': None, 'max_depth': None}, mean: -2122.51605, std: 1933.63108, params: {'n_jobs': 1, 'min_samples_leaf': 5, 'n_estimators': 115, 'min_samples_split': 8, 'max_features': 'log2', 'max_depth': 30}, mean: -2037.88327, std: 1870.80836, params: {'n_jobs': 1, 'min_samples_leaf': 5, 'n_estimators': 117, 'min_samples_split': 15, 'max_features': 'auto', 'max_depth': 30}, mean: -1769.26732, std: 1711.63469, params: {'n_jobs': 1, 'min_samples_leaf': 2, 'n_estimators': 64, 'min_samples_split': 15, 'max_features': None, 'max_depth': None}, mean: -1966.63272, std: 1840.73390, params: {'n_jobs': 1, 'min_samples_leaf': 4, 'n_estimators': 95, 'min_samples_split': 8, 'max_features': 'auto', 'max_depth': 30}, mean: -2151.88004, std: 1969.68936, params: {'n_jobs': 1, 'min_samples_leaf': 5, 'n_estimators': 96, 'min_samples_split': 3, 'max_features': 'sqrt', 'max_depth': 30}, mean: -2249.93649, std: 2041.14126, params: {'n_jobs': 1, 'min_samples_leaf': 7, 'n_estimators': 175, 'min_samples_split': 19, 'max_features': 'sqrt', 'max_depth': 30}, mean: -2232.72148, std: 2082.30504, params: {'n_jobs': 1, 'min_samples_leaf': 7, 'n_estimators': 89, 'min_samples_split': 8, 'max_features': None, 'max_depth': None}, mean: -2227.40219, std: 2045.37074, params: {'n_jobs': 1, 'min_samples_leaf': 6, 'n_estimators': 186, 'min_samples_split': 5, 'max_features': 'log2', 'max_depth': None}, mean: -2167.66882, std: 2001.74327, params: {'n_jobs': 1, 'min_samples_leaf': 6, 'n_estimators': 116, 'min_samples_split': 10, 'max_features': None, 'max_depth': None}, mean: -2255.10822, std: 2073.88485, params: {'n_jobs': 1, 'min_samples_leaf': 7, 'n_estimators': 138, 'min_samples_split': 16, 'max_features': None, 'max_depth': 30}, mean: -2300.06977, std: 2123.06812, params: {'n_jobs': 1, 'min_samples_leaf': 8, 'n_estimators': 152, 'min_samples_split': 3, 'max_features': None, 'max_depth': None}, mean: -1954.78987, std: 1801.83453, params: {'n_jobs': 1, 'min_samples_leaf': 4, 'n_estimators': 105, 'min_samples_split': 15, 'max_features': None, 'max_depth': None}, mean: -2080.60455, std: 1921.55062, params: {'n_jobs': 1, 'min_samples_leaf': 5, 'n_estimators': 175, 'min_samples_split': 17, 'max_features': None, 'max_depth': 30}, mean: -2006.19925, std: 1870.74485, params: {'n_jobs': 1, 'min_samples_leaf': 3, 'n_estimators': 69, 'min_samples_split': 17, 'max_features': 'sqrt', 'max_depth': 30}, mean: -1986.39527, std: 1766.85204, params: {'n_jobs': 1, 'min_samples_leaf': 3, 'n_estimators': 171, 'min_samples_split': 17, 'max_features': 'log2', 'max_depth': None}, mean: -2201.26877, std: 1971.82776, params: {'n_jobs': 1, 'min_samples_leaf': 6, 'n_estimators': 173, 'min_samples_split': 3, 'max_features': 'log2', 'max_depth': None}, mean: -2302.99474, std: 2070.00459, params: {'n_jobs': 1, 'min_samples_leaf': 9, 'n_estimators': 158, 'min_samples_split': 13, 'max_features': None, 'max_depth': None}, mean: -2074.25329, std: 1901.86931, params: {'n_jobs': 1, 'min_samples_leaf': 4, 'n_estimators': 192, 'min_samples_split': 15, 'max_features': 'sqrt', 'max_depth': None}, mean: -1927.35412, std: 1711.03069, params: {'n_jobs': 1, 'min_samples_leaf': 2, 'n_estimators': 124, 'min_samples_split': 19, 'max_features': 'log2', 'max_depth': 30}, mean: -2017.67356, std: 1886.49115, params: {'n_jobs': 1, 'min_samples_leaf': 5, 'n_estimators': 137, 'min_samples_split': 9, 'max_features': None, 'max_depth': None}, mean: -1882.77067, std: 1754.65297, params: {'n_jobs': 1, 'min_samples_leaf': 2, 'n_estimators': 59, 'min_samples_split': 4, 'max_features': 'log2', 'max_depth': None}, mean: -2324.11246, std: 2092.86204, params: {'n_jobs': 1, 'min_samples_leaf': 8, 'n_estimators': 146, 'min_samples_split': 4, 'max_features': 'sqrt', 'max_depth': None}]\n",
      "RMSE: 31.0348422266\n",
      "Best estimator: RandomForestRegressor(bootstrap=True, criterion='mse', max_depth=30,\n",
      "           max_features='auto', max_leaf_nodes=None, min_samples_leaf=1,\n",
      "           min_samples_split=17, min_weight_fraction_leaf=0.0,\n",
      "           n_estimators=120, n_jobs=1, oob_score=False, random_state=None,\n",
      "           verbose=0, warm_start=False)\n",
      "Best params: {'n_jobs': 1, 'min_samples_leaf': 1, 'n_estimators': 120, 'min_samples_split': 17, 'max_features': 'auto', 'max_depth': 30}\n",
      "Best score: -1759.40306645\n"
     ]
    }
   ],
   "source": [
    "from sklearn.grid_search import GridSearchCV\n",
    "from sklearn.grid_search import RandomizedSearchCV\n",
    "from scipy.stats import randint\n",
    "from sklearn.cross_validation import KFold\n",
    "\n",
    "model = RandomForestRegressor()\n",
    "#params = {'n_estimators': [120, 500, 1200], 'n_jobs': [1], 'max_depth': [5, 30, None]}\n",
    "#search = GridSearchCV(model, params, cv=10, scoring='mean_squared_error')\n",
    "params = {'n_estimators': randint(50, 150), 'n_jobs': [1], 'max_depth':[30, None], \n",
    "          'min_samples_split': randint(2,20), 'min_samples_leaf': randint(1,10), \n",
    "          'max_features': ['log2', 'sqrt', 'auto', None]}\n",
    "\n",
    "search = RandomizedSearchCV(model, params, n_iter=100, scoring=\"mean_squared_error\", cv=10)\n",
    "print(\"Running search...\")\n",
    "%time search.fit(X_train, y_train)\n",
    "print(\"Done!\")\n",
    "\n",
    "predictions = search.predict(X_train)\n",
    "rmse = np.sqrt(np.mean((np.array(y_train.values) - predictions)**2))\n",
    "print(\"GridScores: \" + str(search.grid_scores_))\n",
    "print(\"RMSE: \" + str(rmse))\n",
    "print(\"Best estimator: \" + str(search.best_estimator_))\n",
    "print(\"Best params: \" + str(search.best_params_))\n",
    "print(\"Best score: \" + str(search.best_score_))"
   ]
  },
  {
   "cell_type": "code",
   "execution_count": null,
   "metadata": {
    "collapsed": true
   },
   "outputs": [],
   "source": [
    "def tuneparams(X_train, Y_train, n_iter, params):\n",
    "    pass#do later"
   ]
  },
  {
   "cell_type": "code",
   "execution_count": 29,
   "metadata": {
    "collapsed": false
   },
   "outputs": [
    {
     "data": {
      "text/plain": [
       "41.593268686170845"
      ]
     },
     "execution_count": 29,
     "metadata": {},
     "output_type": "execute_result"
    }
   ],
   "source": [
    "np.sqrt(1730)"
   ]
  },
  {
   "cell_type": "code",
   "execution_count": 30,
   "metadata": {
    "collapsed": true
   },
   "outputs": [],
   "source": [
    "gspredictions = search.predict(X_train)"
   ]
  },
  {
   "cell_type": "code",
   "execution_count": 31,
   "metadata": {
    "collapsed": false
   },
   "outputs": [
    {
     "name": "stdout",
     "output_type": "stream",
     "text": [
      "10 Most Important Variables:[('BulkPrice', 0.59501976224610564), ('ClientNumber', 0.27513284528246607), ('Ruta_SAK', 0.082906782651554614), ('Producto_ID', 0.021349456039940748), ('Mass', 0.012683484131798385), ('Canal_ID', 0.0084210124515913323), ('Price', 0.0037353093326812888), ('Agencia_ID', 0.00038658117290189771), ('IsProm', 0.00036476669095992413), ('Semana', 0.0)]\n"
     ]
    }
   ],
   "source": [
    "gsimp = sorted(zip(X_train.columns, search.best_estimator_.feature_importances_), key=lambda tup: tup[1], reverse=True)\n",
    "\n",
    "print(\"10 Most Important Variables:\" + str(gsimp[:10]))"
   ]
  },
  {
   "cell_type": "code",
   "execution_count": 32,
   "metadata": {
    "collapsed": false
   },
   "outputs": [
    {
     "data": {
      "text/plain": [
       "41.602830472086197"
      ]
     },
     "execution_count": 32,
     "metadata": {},
     "output_type": "execute_result"
    }
   ],
   "source": [
    "(-search.best_score_)**0.5"
   ]
  },
  {
   "cell_type": "code",
   "execution_count": 34,
   "metadata": {
    "collapsed": false
   },
   "outputs": [
    {
     "name": "stdout",
     "output_type": "stream",
     "text": [
      "54.0937211476\n"
     ]
    }
   ],
   "source": [
    "print(np.std(y_train.values))"
   ]
  },
  {
   "cell_type": "code",
   "execution_count": 22,
   "metadata": {
    "collapsed": false
   },
   "outputs": [
    {
     "data": {
      "text/plain": [
       "(array([  1.20000000e+02,   9.29000000e+02,   1.33300000e+03, ...,\n",
       "          0.00000000e+00,   0.00000000e+00,   1.00000000e+00]),\n",
       " array([  0.00000000e+00,   1.00000000e+00,   2.00000000e+00, ...,\n",
       "          1.99800000e+03,   1.99900000e+03,   2.00000000e+03]),\n",
       " <a list of 2000 Patch objects>)"
      ]
     },
     "execution_count": 22,
     "metadata": {},
     "output_type": "execute_result"
    },
    {
     "data": {
      "image/png": "[encoded data removed]",
      "text/plain": [
       "<matplotlib.figure.Figure at 0x2c6659b0>"
      ]
     },
     "metadata": {},
     "output_type": "display_data"
    }
   ],
   "source": [
    "%matplotlib inline\n",
    "import matplotlib.pyplot as plt\n",
    "plt.hist(y_train, bins=2000)"
   ]
  },
  {
   "cell_type": "code",
   "execution_count": 53,
   "metadata": {
    "collapsed": false
   },
   "outputs": [
    {
     "data": {
      "text/plain": [
       "(0, 10000)"
      ]
     },
     "execution_count": 53,
     "metadata": {},
     "output_type": "execute_result"
    },
    {
     "data": {
      "image/png": "[encoded data removed]",
      "text/plain": [
       "<matplotlib.figure.Figure at 0x20111f50>"
      ]
     },
     "metadata": {},
     "output_type": "display_data"
    }
   ],
   "source": [
    "plt.plot(y_train.values)\n",
    "plt.plot(predictions)\n",
    "plt.plot(gspredictions)\n",
    "plt.xlim(0,10000)"
   ]
  },
  {
   "cell_type": "code",
   "execution_count": 44,
   "metadata": {
    "collapsed": false
   },
   "outputs": [
    {
     "name": "stdout",
     "output_type": "stream",
     "text": [
      "0.292889851107 +/- 23.8565820697\n",
      "0.0384758387755 +/- 35.4445827916\n",
      "0.900209262785\n",
      "1.56912749291\n"
     ]
    },
    {
     "data": {
      "image/png": "[encoded data removed]",
      "text/plain": [
       "<matplotlib.figure.Figure at 0x266134d0>"
      ]
     },
     "metadata": {},
     "output_type": "display_data"
    }
   ],
   "source": [
    "plt.plot(predictions - y_train.values)\n",
    "plt.plot(gspredictions - y_train.values)\n",
    "plt.ylim(-100,100)\n",
    "print(str(np.mean(predictions - y_train.values)) + \" +/- \" + str(np.std(predictions - y_train.values)))\n",
    "print(str(np.mean(gspredictions - y_train.values)) + \" +/- \" + str(np.std(gspredictions - y_train.values)))\n",
    "print(np.mean(predictions[y_train.values<250] - y_train.values[y_train.values<250]))\n",
    "print(np.mean(gspredictions[y_train.values<250] - y_train.values[y_train.values<250]))"
   ]
  },
  {
   "cell_type": "code",
   "execution_count": 28,
   "metadata": {
    "collapsed": false
   },
   "outputs": [],
   "source": [
    "def RMSLE(pred, actual):\n",
    "    if len(pred)!=len(actual):\n",
    "        print(\"RMSLE ERROR: Incompatible sizes!\")\n",
    "        return\n",
    "    return (sum((np.log(pred + 1) - np.log(actual + 1))**2)/len(predictions))**0.5\n"
   ]
  },
  {
   "cell_type": "markdown",
   "metadata": {},
   "source": [
    "# Notes on first attempt\n",
    "\n",
    "- The grid search parameters didn't get a model that worked as well as the initial guess for the parameters! Also, using grid search nearly melts my computer :-P When I get a chance I'll do another grid search to try and optimise this model. As it stands, the RMSLE of 0.49170 would rank me at 633 on the Kaggle leaderboard (out of 1564). Not bad for an unoptimised model using a small fraction of the dataset!\n",
    "\n",
    "- The most important parameter, according to the best model, is the bulk price. This is a problem as the bulk price is not available for the test data set. A workaround will probably be to make an index of the bulk price according to product ID, and use that to estimate the price. This info will obviously be unavailable for new inventory items.\n",
    "\n",
    "- Given the bulk price was so useful, I should look at whether there is any more info that I can glean from the sales data.\n",
    "\n",
    "## Follow-up notes\n",
    "\n",
    "- My second attempt at running the optimisation was also not as good as the initial parameter guesses. It appears as though I may be lucky. There is some scope to change n_estimators, though the running time increases with this parameter. I'll run with the initial parameters on the entire dataset and see how it goes.\n"
   ]
  },
  {
   "cell_type": "markdown",
   "metadata": {},
   "source": [
    "### Guessing the bulk prices.\n",
    "\n",
    "First I need to double-check that the same item does indeed always give the same bulk price (or at least work out a way to incorporate price variations)."
   ]
  },
  {
   "cell_type": "code",
   "execution_count": 2,
   "metadata": {
    "collapsed": false
   },
   "outputs": [
    {
     "name": "stdout",
     "output_type": "stream",
     "text": [
      "Using matplotlib backend: Qt4Agg\n",
      "Populating the interactive namespace from numpy and matplotlib\n"
     ]
    },
    {
     "ename": "NameError",
     "evalue": "name 'X_train' is not defined",
     "output_type": "error",
     "traceback": [
      "\u001b[1;31m---------------------------------------------------------------------------\u001b[0m",
      "\u001b[1;31mNameError\u001b[0m                                 Traceback (most recent call last)",
      "\u001b[1;32m<ipython-input-2-d039ec6c63f9>\u001b[0m in \u001b[0;36m<module>\u001b[1;34m()\u001b[0m\n\u001b[0;32m      2\u001b[0m \u001b[0mget_ipython\u001b[0m\u001b[1;33m(\u001b[0m\u001b[1;33m)\u001b[0m\u001b[1;33m.\u001b[0m\u001b[0mmagic\u001b[0m\u001b[1;33m(\u001b[0m\u001b[1;34m'matplotlib qt'\u001b[0m\u001b[1;33m)\u001b[0m\u001b[1;33m\u001b[0m\u001b[0m\n\u001b[0;32m      3\u001b[0m \u001b[0mfig\u001b[0m \u001b[1;33m=\u001b[0m \u001b[0mplt\u001b[0m\u001b[1;33m.\u001b[0m\u001b[0mfigure\u001b[0m\u001b[1;33m(\u001b[0m\u001b[1;33m)\u001b[0m\u001b[1;33m\u001b[0m\u001b[0m\n\u001b[1;32m----> 4\u001b[1;33m \u001b[0mX_train\u001b[0m\u001b[1;33m.\u001b[0m\u001b[0mProducto_ID\u001b[0m\u001b[1;33m.\u001b[0m\u001b[0mhist\u001b[0m\u001b[1;33m(\u001b[0m\u001b[0mbins\u001b[0m\u001b[1;33m=\u001b[0m\u001b[1;36m2000\u001b[0m\u001b[1;33m,\u001b[0m \u001b[0mrange\u001b[0m\u001b[1;33m=\u001b[0m\u001b[1;33m(\u001b[0m\u001b[1;36m0\u001b[0m\u001b[1;33m,\u001b[0m\u001b[1;36m2000\u001b[0m\u001b[1;33m)\u001b[0m\u001b[1;33m)\u001b[0m\u001b[1;33m\u001b[0m\u001b[0m\n\u001b[0m\u001b[0;32m      5\u001b[0m \u001b[0mxlim\u001b[0m\u001b[1;33m(\u001b[0m\u001b[1;36m0\u001b[0m\u001b[1;33m,\u001b[0m\u001b[1;36m2000\u001b[0m\u001b[1;33m)\u001b[0m\u001b[1;33m\u001b[0m\u001b[0m\n",
      "\u001b[1;31mNameError\u001b[0m: name 'X_train' is not defined"
     ]
    }
   ],
   "source": [
    "%pylab\n",
    "%matplotlib qt\n",
    "fig = plt.figure()\n",
    "X_train.Producto_ID.hist(bins=2000, range=(0,2000))\n",
    "xlim(0,2000)"
   ]
  },
  {
   "cell_type": "code",
   "execution_count": 34,
   "metadata": {
    "collapsed": false
   },
   "outputs": [
    {
     "data": {
      "text/plain": [
       "(1100, 1200)"
      ]
     },
     "execution_count": 34,
     "metadata": {},
     "output_type": "execute_result"
    }
   ],
   "source": [
    "figure(1)\n",
    "xlim(1100, 1200)"
   ]
  },
  {
   "cell_type": "code",
   "execution_count": 1,
   "metadata": {
    "collapsed": false
   },
   "outputs": [
    {
     "ename": "NameError",
     "evalue": "name 'plt' is not defined",
     "output_type": "error",
     "traceback": [
      "\u001b[1;31m---------------------------------------------------------------------------\u001b[0m",
      "\u001b[1;31mNameError\u001b[0m                                 Traceback (most recent call last)",
      "\u001b[1;32m<ipython-input-1-ab1f676978d3>\u001b[0m in \u001b[0;36m<module>\u001b[1;34m()\u001b[0m\n\u001b[1;32m----> 1\u001b[1;33m \u001b[0mfig\u001b[0m \u001b[1;33m=\u001b[0m \u001b[0mplt\u001b[0m\u001b[1;33m.\u001b[0m\u001b[0mfigure\u001b[0m\u001b[1;33m(\u001b[0m\u001b[1;33m)\u001b[0m\u001b[1;33m\u001b[0m\u001b[0m\n\u001b[0m\u001b[0;32m      2\u001b[0m \u001b[0mX_train\u001b[0m\u001b[1;33m[\u001b[0m\u001b[0mX_train\u001b[0m\u001b[1;33m.\u001b[0m\u001b[0mProducto_ID\u001b[0m \u001b[1;33m==\u001b[0m \u001b[1;36m1110\u001b[0m\u001b[1;33m]\u001b[0m\u001b[1;33m.\u001b[0m\u001b[0mBulkPrice\u001b[0m\u001b[1;33m.\u001b[0m\u001b[0mhist\u001b[0m\u001b[1;33m(\u001b[0m\u001b[0mbins\u001b[0m\u001b[1;33m=\u001b[0m\u001b[1;36m100\u001b[0m\u001b[1;33m)\u001b[0m\u001b[1;33m\u001b[0m\u001b[0m\n",
      "\u001b[1;31mNameError\u001b[0m: name 'plt' is not defined"
     ]
    }
   ],
   "source": [
    "fig = plt.figure()\n",
    "X_train[X_train.Producto_ID == 1110].BulkPrice.hist(bins=100)"
   ]
  },
  {
   "cell_type": "markdown",
   "metadata": {},
   "source": [
    "### Observations of bulk price:\n",
    "\n",
    "- Looking at a few of the products it seems that the bulk price is usually a single value, though sometimes it can be other values. It would probably make sense to use a large enough portion of the dataset (randomly selected) and take the mode. I could then save the bulk price as another row in the product table.\n",
    "\n",
    "- I can use the code outlined on this page (http://stackoverflow.com/questions/22258491/read-a-small-random-sample-from-a-big-csv-file-into-a-python-data-frame) if I know the number of lines in the csv file."
   ]
  },
  {
   "cell_type": "code",
   "execution_count": 39,
   "metadata": {
    "collapsed": false
   },
   "outputs": [
    {
     "name": "stdout",
     "output_type": "stream",
     "text": [
      "# Rows in train.csv = 74180465\n"
     ]
    }
   ],
   "source": [
    "fname = \"train.csv\"\n",
    "file_read = open(fname)\n",
    "row_count = sum(1 for row in file_read)\n",
    "print(\"# Rows in {0} = {1}\".format(fname,row_count))\n",
    "file_read.close()"
   ]
  },
  {
   "cell_type": "code",
   "execution_count": 42,
   "metadata": {
    "collapsed": false
   },
   "outputs": [
    {
     "name": "stdout",
     "output_type": "stream",
     "text": [
      "Semana,Agencia_ID,Canal_ID,Ruta_SAK,Cliente_ID,Producto_ID,Venta_uni_hoy,Venta_hoy,Dev_uni_proxima,Dev_proxima,Demanda_uni_equil\n",
      "\n",
      "3,1110,7,3301,15766,1212,3,25.14,0,0.0,3\n",
      "\n",
      "3,1110,7,3301,15766,1216,4,33.52,0,0.0,4\n",
      "\n",
      "3,1110,7,3301,15766,1238,4,39.32,0,0.0,4\n",
      "\n"
     ]
    }
   ],
   "source": [
    "file_read = open(fname)\n",
    "print(file_read.readline())\n",
    "print(file_read.readline())\n",
    "print(file_read.readline())\n",
    "print(file_read.readline())\n",
    "file_read.close()"
   ]
  },
  {
   "cell_type": "markdown",
   "metadata": {},
   "source": [
    "- OK, 74180465 rows in the entire training set, less 1 for the first line. Now to take a large-ish sample."
   ]
  },
  {
   "cell_type": "code",
   "execution_count": 16,
   "metadata": {
    "collapsed": false
   },
   "outputs": [],
   "source": [
    "import random\n",
    "import csv\n",
    "\n",
    "n = 74180465 #number of records in file\n",
    "s = 300000 #desired sample size\n",
    "fname = \"train.csv\"\n",
    "chances_selected = s / n\n",
    "result = []\n",
    "linenum = 0\n",
    "for line in open(fname):\n",
    "    if linenum == 0:\n",
    "        #be sure to collect the header\n",
    "        linenum = 1\n",
    "        result.append(line)\n",
    "        continue\n",
    "    if random.random() < chances_selected:\n",
    "        result.append(line)\n",
    "\n",
    "#The code below uses too much memory (and I don't understand why)\n",
    "#n = 74180465-1 #number of records in file\n",
    "#s = 10000 #desired sample size\n",
    "#fname = \"train.csv\"\n",
    "#skip = sorted(random.sample(range(1,n+1),n-s))\n",
    "#train_random = pandas.read_csv(fname, skiprows=skip)"
   ]
  },
  {
   "cell_type": "code",
   "execution_count": 17,
   "metadata": {
    "collapsed": false
   },
   "outputs": [],
   "source": [
    "outfile = open(\"train_100Krandom.csv\", \"w\")\n",
    "for item in result:\n",
    "    outfile.write(item)\n",
    "outfile.close()"
   ]
  },
  {
   "cell_type": "code",
   "execution_count": 6,
   "metadata": {
    "collapsed": false
   },
   "outputs": [
    {
     "data": {
      "text/html": [
       "<div>\n",
       "<table border=\"1\" class=\"dataframe\">\n",
       "  <thead>\n",
       "    <tr style=\"text-align: right;\">\n",
       "      <th></th>\n",
       "      <th>Semana</th>\n",
       "      <th>Agencia_ID</th>\n",
       "      <th>Canal_ID</th>\n",
       "      <th>Ruta_SAK</th>\n",
       "      <th>Cliente_ID</th>\n",
       "      <th>Producto_ID</th>\n",
       "      <th>Venta_uni_hoy</th>\n",
       "      <th>Venta_hoy</th>\n",
       "      <th>Dev_uni_proxima</th>\n",
       "      <th>Dev_proxima</th>\n",
       "      <th>Demanda_uni_equil</th>\n",
       "    </tr>\n",
       "  </thead>\n",
       "  <tbody>\n",
       "    <tr>\n",
       "      <th>0</th>\n",
       "      <td>3</td>\n",
       "      <td>1110</td>\n",
       "      <td>7</td>\n",
       "      <td>3301</td>\n",
       "      <td>108104</td>\n",
       "      <td>2665</td>\n",
       "      <td>44</td>\n",
       "      <td>704.00</td>\n",
       "      <td>0</td>\n",
       "      <td>0</td>\n",
       "      <td>44</td>\n",
       "    </tr>\n",
       "    <tr>\n",
       "      <th>1</th>\n",
       "      <td>3</td>\n",
       "      <td>1110</td>\n",
       "      <td>7</td>\n",
       "      <td>3301</td>\n",
       "      <td>853124</td>\n",
       "      <td>2233</td>\n",
       "      <td>2</td>\n",
       "      <td>39.88</td>\n",
       "      <td>0</td>\n",
       "      <td>0</td>\n",
       "      <td>2</td>\n",
       "    </tr>\n",
       "    <tr>\n",
       "      <th>2</th>\n",
       "      <td>3</td>\n",
       "      <td>1110</td>\n",
       "      <td>7</td>\n",
       "      <td>3301</td>\n",
       "      <td>1255667</td>\n",
       "      <td>328</td>\n",
       "      <td>3</td>\n",
       "      <td>24.45</td>\n",
       "      <td>0</td>\n",
       "      <td>0</td>\n",
       "      <td>3</td>\n",
       "    </tr>\n",
       "    <tr>\n",
       "      <th>3</th>\n",
       "      <td>3</td>\n",
       "      <td>1110</td>\n",
       "      <td>7</td>\n",
       "      <td>3301</td>\n",
       "      <td>4328602</td>\n",
       "      <td>1240</td>\n",
       "      <td>6</td>\n",
       "      <td>50.28</td>\n",
       "      <td>0</td>\n",
       "      <td>0</td>\n",
       "      <td>6</td>\n",
       "    </tr>\n",
       "    <tr>\n",
       "      <th>4</th>\n",
       "      <td>3</td>\n",
       "      <td>1110</td>\n",
       "      <td>7</td>\n",
       "      <td>3301</td>\n",
       "      <td>9503385</td>\n",
       "      <td>30531</td>\n",
       "      <td>2</td>\n",
       "      <td>15.56</td>\n",
       "      <td>0</td>\n",
       "      <td>0</td>\n",
       "      <td>2</td>\n",
       "    </tr>\n",
       "  </tbody>\n",
       "</table>\n",
       "</div>"
      ],
      "text/plain": [
       "   Semana  Agencia_ID  Canal_ID  Ruta_SAK  Cliente_ID  Producto_ID  \\\n",
       "0       3        1110         7      3301      108104         2665   \n",
       "1       3        1110         7      3301      853124         2233   \n",
       "2       3        1110         7      3301     1255667          328   \n",
       "3       3        1110         7      3301     4328602         1240   \n",
       "4       3        1110         7      3301     9503385        30531   \n",
       "\n",
       "   Venta_uni_hoy  Venta_hoy  Dev_uni_proxima  Dev_proxima  Demanda_uni_equil  \n",
       "0             44     704.00                0            0                 44  \n",
       "1              2      39.88                0            0                  2  \n",
       "2              3      24.45                0            0                  3  \n",
       "3              6      50.28                0            0                  6  \n",
       "4              2      15.56                0            0                  2  "
      ]
     },
     "execution_count": 6,
     "metadata": {},
     "output_type": "execute_result"
    }
   ],
   "source": [
    "train_random = pandas.read_csv('train_300Krandom.csv')\n",
    "train_random.head()"
   ]
  },
  {
   "cell_type": "code",
   "execution_count": 15,
   "metadata": {
    "collapsed": true
   },
   "outputs": [],
   "source": [
    "train_random.loc[:, \"BulkPrice\"] = train_random.Venta_hoy/train_random.Venta_uni_hoy"
   ]
  },
  {
   "cell_type": "code",
   "execution_count": 7,
   "metadata": {
    "collapsed": false
   },
   "outputs": [
    {
     "name": "stdout",
     "output_type": "stream",
     "text": [
      "Using matplotlib backend: Qt4Agg\n",
      "Populating the interactive namespace from numpy and matplotlib\n"
     ]
    },
    {
     "name": "stderr",
     "output_type": "stream",
     "text": [
      "WARNING: pylab import has clobbered these variables: ['test']\n",
      "`%matplotlib` prevents importing * from pylab and numpy\n"
     ]
    },
    {
     "data": {
      "text/plain": [
       "(0, 2000)"
      ]
     },
     "execution_count": 7,
     "metadata": {},
     "output_type": "execute_result"
    }
   ],
   "source": [
    "%pylab\n",
    "fig = plt.figure()\n",
    "train_random.Producto_ID.hist(bins=2000, range=(0,2000))\n",
    "xlim(0,2000)"
   ]
  },
  {
   "cell_type": "code",
   "execution_count": 9,
   "metadata": {
    "collapsed": false
   },
   "outputs": [
    {
     "data": {
      "text/plain": [
       "(0, 20)"
      ]
     },
     "execution_count": 9,
     "metadata": {},
     "output_type": "execute_result"
    }
   ],
   "source": [
    "ylim(0,20)"
   ]
  },
  {
   "cell_type": "code",
   "execution_count": 25,
   "metadata": {
    "collapsed": false
   },
   "outputs": [
    {
     "name": "stdout",
     "output_type": "stream",
     "text": [
      "(array([ 21.07]), array([ 257.]))\n"
     ]
    }
   ],
   "source": [
    "from scipy.stats import mode\n",
    "print(mode(train_random[train_random.Producto_ID == 1120].BulkPrice))"
   ]
  },
  {
   "cell_type": "code",
   "execution_count": 37,
   "metadata": {
    "collapsed": false
   },
   "outputs": [
    {
     "name": "stdout",
     "output_type": "stream",
     "text": [
      "Couldn't determine bulk price for 1463 (56.4429012345679 %) of 2592 products\n"
     ]
    }
   ],
   "source": [
    "product_table = pandas.read_csv('product_table_extractPromMassPrice.csv')\n",
    "product_table.head()\n",
    "\n",
    "bulkprices = []\n",
    "NumNotFound = 0\n",
    "TotProducts = 0\n",
    "for ID in product_table.Producto_ID:\n",
    "    TotProducts += 1\n",
    "    try:\n",
    "        bulkprices.append(mode(train_random[train_random.Producto_ID == ID].BulkPrice)[0][0])\n",
    "    except UnboundLocalError:\n",
    "        #print(\"No products for ID #: {0}\".format(ID))\n",
    "        bulkprices.append(-1)\n",
    "        NumNotFound += 1\n",
    "        \n",
    "print(\"Couldn't determine bulk price for {0} ({2} %) of {1} products\".format(NumNotFound, TotProducts,\n",
    "                                                                             100*NumNotFound/TotProducts))\n"
   ]
  },
  {
   "cell_type": "code",
   "execution_count": 36,
   "metadata": {
    "collapsed": false
   },
   "outputs": [
    {
     "data": {
      "text/plain": [
       "3.7000000000000002"
      ]
     },
     "execution_count": 36,
     "metadata": {},
     "output_type": "execute_result"
    }
   ],
   "source": [
    "bulkprices[4][0][0]"
   ]
  },
  {
   "cell_type": "code",
   "execution_count": 38,
   "metadata": {
    "collapsed": false
   },
   "outputs": [],
   "source": [
    "product_table.loc[:, \"BulkPrice\"] = bulkprices\n",
    "product_table.to_csv(\"product_table_extractPromMassPrice_BulkPrice.csv\")"
   ]
  },
  {
   "cell_type": "markdown",
   "metadata": {},
   "source": [
    "# First submission:\n",
    "\n",
    "Submission file is Submission1_300Krandomsample_RandomForest.csv.\n",
    "Used the 300K random sample of the train data to train the random forest model.\n",
    "My naive first attempt at submitting led to an error due to a formatting problem.\n",
    "Let's look inside the file:"
   ]
  },
  {
   "cell_type": "code",
   "execution_count": 3,
   "metadata": {
    "collapsed": false
   },
   "outputs": [
    {
     "name": "stdout",
     "output_type": "stream",
     "text": [
      "# id,Demanda_uni_equil\n",
      "\n",
      "3.137999999999999901e+01\n",
      "\n",
      "8.843999999999999773e+01\n",
      "\n",
      "id,Semana,Agencia_ID,Canal_ID,Ruta_SAK,Cliente_ID,Producto_ID\n",
      "\n",
      "0,11,4037,1,2209,4639078,35305\n",
      "\n",
      "1,11,2237,1,1226,4705135,1238\n",
      "\n"
     ]
    }
   ],
   "source": [
    "fname = \"Submission1_300Krandomsample_RandomForest.csv\"\n",
    "file_read = open(fname)\n",
    "print(file_read.readline())\n",
    "print(file_read.readline())\n",
    "print(file_read.readline())\n",
    "file_read.close()\n",
    "fname = \"test.csv\"\n",
    "file_read = open(fname)\n",
    "print(file_read.readline())\n",
    "print(file_read.readline())\n",
    "print(file_read.readline())\n",
    "file_read.close()"
   ]
  },
  {
   "cell_type": "markdown",
   "metadata": {},
   "source": [
    "OK, I can see why the submission failed! I need to get rid of the # (and whitespace) and add the ID numbers to the submission file. (I assume it's in the correct order).\n",
    "\n",
    "It will be best to make a new file:\n",
    "\n"
   ]
  },
  {
   "cell_type": "code",
   "execution_count": 5,
   "metadata": {
    "collapsed": false
   },
   "outputs": [
    {
     "name": "stdout",
     "output_type": "stream",
     "text": [
      "<bound method DataFrame.head of               id  Semana  Agencia_ID  Canal_ID  Ruta_SAK  Cliente_ID  \\\n",
      "0              0      11        4037         1      2209     4639078   \n",
      "1              1      11        2237         1      1226     4705135   \n",
      "2              2      10        2045         1      2831     4549769   \n",
      "3              3      11        1227         1      4448     4717855   \n",
      "4              4      11        1219         1      1130      966351   \n",
      "5              5      11        1146         4      6601     1741414   \n",
      "6              6      11        2057         1      4507     4659766   \n",
      "7              7      10        1612         1      2837     4414012   \n",
      "8              8      10        1349         1      1223      397854   \n",
      "9              9      11        1461         1      1203     1646915   \n",
      "10            10      11        1124         1      1118     4555688   \n",
      "11            11      10        1336         1      1069     4387996   \n",
      "12            12      11        1239         1      1125      290608   \n",
      "13            13      10        1217         1      1143     4446449   \n",
      "14            14      10        1312         1      2056       69110   \n",
      "15            15      11        1227         1      2115     1034925   \n",
      "16            16      11        2071         1      1203       91580   \n",
      "17            17      11        3211         1      1016      325074   \n",
      "18            18      10        1629         1      1612     2325923   \n",
      "19            19      11       23719         1      2813     4752270   \n",
      "20            20      11        1347         1      2153     2257091   \n",
      "21            21      11        2653         1      1048     5885765   \n",
      "22            22      10        1477         4      4714     4670562   \n",
      "23            23      11        1232         1      1211      245366   \n",
      "24            24      11        2216         1      1151     2197573   \n",
      "25            25      11        1227         1      2822     3342223   \n",
      "26            26      10        3214         1      1627     4721398   \n",
      "27            27      11        1420         1      2134     1500391   \n",
      "28            28      11        1137         1      1064     4461695   \n",
      "29            29      11        2012         1      1158     1485041   \n",
      "...          ...     ...         ...       ...       ...         ...   \n",
      "6999221  6999221      11        1613         1      1024     2392365   \n",
      "6999222  6999222      10        1552         1      2003       31357   \n",
      "6999223  6999223      10        1557         1      1026     1951715   \n",
      "6999224  6999224      11        2032         1      2056      241145   \n",
      "6999225  6999225      10        1137         1      1470      260348   \n",
      "6999226  6999226      11        1245         1      2804     1419434   \n",
      "6999227  6999227      11        3215         1      4459       58834   \n",
      "6999228  6999228      10        1215         1      1605     2379288   \n",
      "6999229  6999229      10        4051         1      1106      122768   \n",
      "6999230  6999230      11        2031         1      1051     4477847   \n",
      "6999231  6999231      11        1636         1      1101     1740273   \n",
      "6999232  6999232      10        1223         1      1257      939061   \n",
      "6999233  6999233      10        2016         1      1316     1345165   \n",
      "6999234  6999234      11        4049         1      1141     1067683   \n",
      "6999235  6999235      11        2032         1      1155      241197   \n",
      "6999236  6999236      11       24049         1      4502     4416986   \n",
      "6999237  6999237      10        1618         1      4416     2447781   \n",
      "6999238  6999238      10        1336         1      2106     1203863   \n",
      "6999239  6999239      11        1427         1      2801     1373090   \n",
      "6999240  6999240      11        1620         1      1242     1611046   \n",
      "6999241  6999241      10        1378         1      1265     2021090   \n",
      "6999242  6999242      10        1338         1      1201      789056   \n",
      "6999243  6999243      11        1631         1      2806     1526987   \n",
      "6999244  6999244      11        1420         1      1119     1621931   \n",
      "6999245  6999245      10        1333        11      3905     1905253   \n",
      "6999246  6999246      11        2057         1      1153     4379638   \n",
      "6999247  6999247      10        1334         1      2008      970421   \n",
      "6999248  6999248      11        1622         1      2869      192749   \n",
      "6999249  6999249      11        1636         1      4401      286071   \n",
      "6999250  6999250      11        1625         1      1259      978760   \n",
      "\n",
      "         Producto_ID  \n",
      "0              35305  \n",
      "1               1238  \n",
      "2              32940  \n",
      "3              43066  \n",
      "4               1277  \n",
      "5                972  \n",
      "6               1232  \n",
      "7              35305  \n",
      "8               1240  \n",
      "9              43203  \n",
      "10              1278  \n",
      "11              2233  \n",
      "12              4270  \n",
      "13              1240  \n",
      "14             43274  \n",
      "15             37361  \n",
      "16             43200  \n",
      "17              1150  \n",
      "18              4270  \n",
      "19             35456  \n",
      "20             30552  \n",
      "21              1125  \n",
      "22             35525  \n",
      "23              1150  \n",
      "24              1232  \n",
      "25             43285  \n",
      "26             36920  \n",
      "27             37361  \n",
      "28              2233  \n",
      "29             41938  \n",
      "...              ...  \n",
      "6999221         1109  \n",
      "6999222        43084  \n",
      "6999223        31393  \n",
      "6999224        43316  \n",
      "6999225        35651  \n",
      "6999226        35305  \n",
      "6999227        43069  \n",
      "6999228        31719  \n",
      "6999229        43202  \n",
      "6999230         1146  \n",
      "6999231         1230  \n",
      "6999232         1242  \n",
      "6999233         1220  \n",
      "6999234        37403  \n",
      "6999235        35651  \n",
      "6999236         2233  \n",
      "6999237        43215  \n",
      "6999238        37361  \n",
      "6999239        43307  \n",
      "6999240         1230  \n",
      "6999241         1212  \n",
      "6999242         1146  \n",
      "6999243        43285  \n",
      "6999244        43206  \n",
      "6999245        35305  \n",
      "6999246         1232  \n",
      "6999247        43069  \n",
      "6999248        30532  \n",
      "6999249        35107  \n",
      "6999250         1232  \n",
      "\n",
      "[6999251 rows x 7 columns]>\n",
      "0\n"
     ]
    }
   ],
   "source": [
    "import pandas\n",
    "test = pandas.read_csv('test.csv')\n",
    "print(test.head())\n",
    "print(test[\"id\"][0])"
   ]
  },
  {
   "cell_type": "code",
   "execution_count": 8,
   "metadata": {
    "collapsed": false
   },
   "outputs": [
    {
     "data": {
      "text/plain": [
       "699251"
      ]
     },
     "execution_count": 8,
     "metadata": {},
     "output_type": "execute_result"
    }
   ],
   "source": [
    "test.id[699251]"
   ]
  },
  {
   "cell_type": "code",
   "execution_count": 14,
   "metadata": {
    "collapsed": false
   },
   "outputs": [
    {
     "name": "stdout",
     "output_type": "stream",
     "text": [
      "# Rows in Submission1_300Krandomsample_RandomForest.csv = 6999252\n"
     ]
    }
   ],
   "source": [
    "oldoutputpath = \"Submission1_300Krandomsample_RandomForest.csv\"\n",
    "outputrow_count = sum(1 for row in open(oldoutputpath))\n",
    "print(\"# Rows in {0} = {1}\".format(oldoutputpath,outputrow_count))"
   ]
  },
  {
   "cell_type": "code",
   "execution_count": 23,
   "metadata": {
    "collapsed": false
   },
   "outputs": [],
   "source": [
    "newoutput = open(\"Submission1_300Krandomsample_RandomForest_properformat.csv\", \"x\")\n",
    "oldoutputpath = \"Submission1_300Krandomsample_RandomForest.csv\"\n",
    "test = pandas.read_csv('test.csv')\n",
    "\n",
    "newoutput.write('id,Demanda_uni_equil\\n')\n",
    "i = -1\n",
    "for line in open(oldoutputpath):\n",
    "    if i==-1:\n",
    "        i+=1\n",
    "        continue\n",
    "    newoutput.write(str(test[\"id\"][i]) + \",\" + line)\n",
    "    i+=1\n",
    "    \n",
    "newoutput.close()"
   ]
  },
  {
   "cell_type": "code",
   "execution_count": 25,
   "metadata": {
    "collapsed": false
   },
   "outputs": [
    {
     "name": "stdout",
     "output_type": "stream",
     "text": [
      "<bound method DataFrame.head of               id  Demanda_uni_equil\n",
      "0              0             31.380\n",
      "1              1             88.440\n",
      "2              2            116.990\n",
      "3              3            163.820\n",
      "4              4             83.100\n",
      "5              5             83.100\n",
      "6              6            145.270\n",
      "7              7            145.640\n",
      "8              8             99.700\n",
      "9              9             21.460\n",
      "10            10             21.460\n",
      "11            11             28.150\n",
      "12            12             30.930\n",
      "13            13             21.970\n",
      "14            14             27.580\n",
      "15            15            119.130\n",
      "16            16            119.730\n",
      "17            17            119.730\n",
      "18            18            116.490\n",
      "19            19            116.490\n",
      "20            20            127.870\n",
      "21            21            127.870\n",
      "22            22             75.740\n",
      "23            23             75.740\n",
      "24            24             60.120\n",
      "25            25             60.120\n",
      "26            26            154.170\n",
      "27            27            114.290\n",
      "28            28            168.840\n",
      "29            29            160.050\n",
      "...          ...                ...\n",
      "6999221  6999221              3.545\n",
      "6999222  6999222              7.080\n",
      "6999223  6999223              4.540\n",
      "6999224  6999224              2.210\n",
      "6999225  6999225              4.190\n",
      "6999226  6999226              6.030\n",
      "6999227  6999227              6.030\n",
      "6999228  6999228              7.510\n",
      "6999229  6999229              6.290\n",
      "6999230  6999230              6.280\n",
      "6999231  6999231              3.180\n",
      "6999232  6999232              2.550\n",
      "6999233  6999233              4.310\n",
      "6999234  6999234              3.080\n",
      "6999235  6999235             11.790\n",
      "6999236  6999236             10.130\n",
      "6999237  6999237             10.040\n",
      "6999238  6999238              5.660\n",
      "6999239  6999239            178.120\n",
      "6999240  6999240            179.100\n",
      "6999241  6999241            171.370\n",
      "6999242  6999242             90.240\n",
      "6999243  6999243             89.680\n",
      "6999244  6999244             83.800\n",
      "6999245  6999245             83.760\n",
      "6999246  6999246             83.760\n",
      "6999247  6999247             68.270\n",
      "6999248  6999248             55.640\n",
      "6999249  6999249             99.430\n",
      "6999250  6999250             26.820\n",
      "\n",
      "[6999251 rows x 2 columns]>\n",
      "0\n"
     ]
    }
   ],
   "source": [
    "dummy = pandas.read_csv('Submission1_300Krandomsample_RandomForest_properformat.csv')\n",
    "print(dummy.head)\n",
    "print(dummy[\"id\"][0])"
   ]
  },
  {
   "cell_type": "code",
   "execution_count": 24,
   "metadata": {
    "collapsed": false
   },
   "outputs": [
    {
     "name": "stdout",
     "output_type": "stream",
     "text": [
      "id,Demanda_uni_equil\n",
      "\n",
      "0,3.137999999999999901e+01\n",
      "\n",
      "1,8.843999999999999773e+01\n",
      "\n",
      "2,1.169899999999999949e+02\n",
      "\n"
     ]
    }
   ],
   "source": [
    "fname = \"Submission1_300Krandomsample_RandomForest_properformat.csv\"\n",
    "file_read = open(fname)\n",
    "print(file_read.readline())\n",
    "print(file_read.readline())\n",
    "print(file_read.readline())\n",
    "print(file_read.readline())\n",
    "file_read.close()"
   ]
  },
  {
   "cell_type": "markdown",
   "metadata": {},
   "source": [
    "# 1st Submission result:\n",
    "\n",
    "\t\n",
    "RMSLE = 1.18891, which puts me in position 1662 out of 1682 :-|\n",
    "\n",
    "Taking the mean of the feature vector would give a RMSLE of 0.96225!\n",
    "\n",
    "Given the RMSLE that I get when I cross-validate is ~0.36, I am either over-fitting or the variance from having a small random sample is killing me (maybe both!)"
   ]
  },
  {
   "cell_type": "markdown",
   "metadata": {},
   "source": [
    "# To Do:\n",
    "\n",
    "- How can I train using all the data? It has no chance of fitting into memory.\n",
    "\n",
    "- Remove Semana as a parameter in the fit.\n",
    "\n",
    "- Am I handling missing values correctly? (I set them to -1).\n",
    "\n",
    "- Work out how to merge the capitalised words from product name into a useable form.\n",
    "\n",
    "- Find out why the town/state info can't be re-labelled as categories - Note: it may be the text encoding.\n",
    "\n",
    "- Try a bunch of different ML models.\n",
    "\n",
    "- Make a database of 'bulk price'. Then I can run the model on the test data with guessed bulk prices, and make a submission. (This is currently only done using a small random sample of the data set; I need to do it over the whole dataset).\n",
    "\n",
    "- Make a quick and easy way to convert everything into the training format."
   ]
  },
  {
   "cell_type": "markdown",
   "metadata": {},
   "source": [
    "# The real To Do list:\n",
    "\n",
    "I'm not going to get to everything, so I just want to play with the data at this point.\n",
    "\n",
    "- Calculate the number of unique new products in the test data set, to get a feel for how much of an issue this is.\n",
    "\n",
    "- Try running an open sourced Kaggle entry, if there's a half-way decent one. Maybe I can adapt it?\n",
    "\n",
    "- Maybe try running a few random splits, with a fixed random validation set, no cross-validation (I'm not sure I'm not fucking it up and overtraining). Alternatively, just cross-validate and make maybe 15 models then average them.\n",
    "\n",
    "- Try another model, ideally one that can be incrementally trained..."
   ]
  },
  {
   "cell_type": "markdown",
   "metadata": {},
   "source": [
    "## Notes from reading the forum:\n",
    "\n",
    "- Test database is for actual returns, and we're trying to predict the number of returns that we got. This means that we do expect there to be a return.\n",
    "- Apparently the capitalised letters before the product ID are acronyms that stand for the manufacturer/brand."
   ]
  }
 ],
 "metadata": {
  "kernelspec": {
   "display_name": "Python 3",
   "language": "python",
   "name": "python3"
  },
  "language_info": {
   "codemirror_mode": {
    "name": "ipython",
    "version": 3
   },
   "file_extension": ".py",
   "mimetype": "text/x-python",
   "name": "python",
   "nbconvert_exporter": "python",
   "pygments_lexer": "ipython3",
   "version": "3.4.3"
  }
 },
 "nbformat": 4,
 "nbformat_minor": 0
}
